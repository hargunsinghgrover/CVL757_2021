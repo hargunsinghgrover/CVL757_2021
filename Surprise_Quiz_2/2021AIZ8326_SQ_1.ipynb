{
 "cells": [
  {
   "cell_type": "code",
   "execution_count": 1,
   "id": "70570a62",
   "metadata": {},
   "outputs": [],
   "source": [
    "E = 210000000\n",
    "v=0.3\n",
    "t=0.025\n",
    "w=3000"
   ]
  },
  {
   "cell_type": "code",
   "execution_count": 3,
   "id": "ce8af990",
   "metadata": {},
   "outputs": [],
   "source": [
    "xi, yi = (0,0)\n",
    "xj, yj = (0.5,0.25)\n",
    "xm, ym = (0,0.25)\n",
    "\n",
    "xp, yp = (0,0)\n",
    "xq, yq = (0.5,0)\n",
    "xr, yr = (0.5,0.25)\n",
    "\n",
    "A1 = (xi*(yj-ym) + xj*(ym-yi)+xm*(yi-yj))/2\n",
    "A2 = (xp*(yq-yr) + xq*(yr-yp)+xr*(yp-yq))/2"
   ]
  },
  {
   "cell_type": "code",
   "execution_count": 11,
   "id": "42829aa3",
   "metadata": {},
   "outputs": [
    {
     "data": {
      "text/plain": [
       "array([[2.30769231e+08, 6.92307692e+07, 0.00000000e+00],\n",
       "       [6.92307692e+07, 2.30769231e+08, 0.00000000e+00],\n",
       "       [0.00000000e+00, 0.00000000e+00, 8.07692308e+07]])"
      ]
     },
     "execution_count": 11,
     "metadata": {},
     "output_type": "execute_result"
    }
   ],
   "source": [
    "import numpy as np\n",
    "B1 = (np.array([yj-ym,0,ym-yi,0, yi-yj,0,0,xm-xj,0,xi-xm,0,xj-xi,xm-xj,yj-ym,xi-xm,ym-yi,xj-xi,yi-yj]).reshape((3,6)))/(2*A1)\n",
    "B2 = (np.array([yq-yr,0,yr-yp,0, yp-yq,0,0,xr-xq,0,xp-xr,0,xq-xp,xr-xq,yq-yr,xp-xr,yr-yp,xq-xp,yp-yq]).reshape((3,6)))/(2*A2)\n",
    "\n",
    "D = (E/(1-v**2)) * (np.array([1,v,0,v,1,0,0,0,(1-v)/2]).reshape((3,3)))\n",
    "\n",
    "D"
   ]
  },
  {
   "cell_type": "code",
   "execution_count": null,
   "id": "8d0c6485",
   "metadata": {},
   "outputs": [],
   "source": []
  }
 ],
 "metadata": {
  "kernelspec": {
   "display_name": "Python 3",
   "language": "python",
   "name": "python3"
  },
  "language_info": {
   "codemirror_mode": {
    "name": "ipython",
    "version": 3
   },
   "file_extension": ".py",
   "mimetype": "text/x-python",
   "name": "python",
   "nbconvert_exporter": "python",
   "pygments_lexer": "ipython3",
   "version": "3.6.5"
  }
 },
 "nbformat": 4,
 "nbformat_minor": 5
}
